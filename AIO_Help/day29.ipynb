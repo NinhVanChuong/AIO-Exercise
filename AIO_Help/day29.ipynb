{
 "cells": [
  {
   "cell_type": "code",
   "execution_count": 1,
   "metadata": {},
   "outputs": [
    {
     "name": "stdout",
     "output_type": "stream",
     "text": [
      "Hệ số tương quan giữa hai mảng là : 0.9999999999999999\n"
     ]
    }
   ],
   "source": [
    "# Bài tập tính hệ số tương quan giữa hai biến số\n",
    "\n",
    "import numpy as np\n",
    "\n",
    "X = np.array([1,2,3,4,5])\n",
    "Y = np.array([2,4,6,8,10])\n",
    "\n",
    "correlation = np.corrcoef(X, Y)[0,1]\n",
    "\n",
    "print(f\"Hệ số tương quan giữa X và Y là : {correlation}\")"
   ]
  },
  {
   "cell_type": "code",
   "execution_count": 2,
   "metadata": {},
   "outputs": [
    {
     "name": "stdout",
     "output_type": "stream",
     "text": [
      "Hệ số tương quan giữa X_new và Y_new là : 1.0\n"
     ]
    }
   ],
   "source": [
    "#3.1 Bài tập mở rộng\n",
    "\n",
    "import numpy as np\n",
    "\n",
    "X_new = np.array([10,20,30,40,50])\n",
    "Y_new = np.array([5,15,25,35,45])\n",
    "\n",
    "correlation_new = np.corrcoef(X_new, Y_new)[0,1]\n",
    "print(f\"Hệ số tương quan giữa X_new và Y_new là : {correlation_new}\")\n"
   ]
  }
 ],
 "metadata": {
  "kernelspec": {
   "display_name": "AIO-Exercise",
   "language": "python",
   "name": "python3"
  },
  "language_info": {
   "codemirror_mode": {
    "name": "ipython",
    "version": 3
   },
   "file_extension": ".py",
   "mimetype": "text/x-python",
   "name": "python",
   "nbconvert_exporter": "python",
   "pygments_lexer": "ipython3",
   "version": "3.11.9"
  }
 },
 "nbformat": 4,
 "nbformat_minor": 2
}
