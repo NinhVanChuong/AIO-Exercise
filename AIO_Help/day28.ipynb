{
 "cells": [
  {
   "cell_type": "code",
   "execution_count": 5,
   "metadata": {},
   "outputs": [
    {
     "name": "stdout",
     "output_type": "stream",
     "text": [
      "[[19 22]\n",
      " [43 50]]\n",
      "10\n",
      "[[ 4  5  6]\n",
      " [ 8 10 12]\n",
      " [12 15 18]]\n"
     ]
    }
   ],
   "source": [
    "#1 Nhân ma trận\n",
    "import numpy as np\n",
    "A = np.array([[1,2], [3,4]])\n",
    "B = np.array([[5,6], [7,8]])\n",
    "C = np.einsum('ij,jk->ik',A,B)\n",
    "print(C)\n",
    "\n",
    "#2 Tính tổng các phần tử trong một mảng\n",
    "a = np.array([1,2,3,4])\n",
    "sum_a = np.einsum('i->', a)\n",
    "print(sum_a)\n",
    "\n",
    "#3 Nhân chéo (Outer product)\n",
    "a = np.array([1,2,3])\n",
    "b = np.array([4,5,6])\n",
    "outer_product = np.einsum('i,j->ij', a, b)\n",
    "print(outer_product)"
   ]
  },
  {
   "cell_type": "code",
   "execution_count": 8,
   "metadata": {},
   "outputs": [
    {
     "name": "stdout",
     "output_type": "stream",
     "text": [
      "[12 15 18]\n"
     ]
    }
   ],
   "source": [
    "#Bài tập 1: Tính tổng các cột trong ma trận\n",
    "import numpy as np\n",
    "\n",
    "A = np.array([[1, 2, 3], [4, 5, 6], [7, 8, 9]])\n",
    "column_sum = np.einsum('ij->j', A)\n",
    "print(column_sum)"
   ]
  },
  {
   "cell_type": "code",
   "execution_count": 9,
   "metadata": {},
   "outputs": [
    {
     "name": "stdout",
     "output_type": "stream",
     "text": [
      "15\n"
     ]
    }
   ],
   "source": [
    "#Bài tập 3 Tính tổng các phần tử trên đường chéo chính\n",
    "import numpy as np\n",
    "A = np.array([[1,2,3],[4,5,6],[7,8,9]])\n",
    "diagonal_sum = np.einsum('ii->',A)\n",
    "print(diagonal_sum)"
   ]
  },
  {
   "cell_type": "code",
   "execution_count": 10,
   "metadata": {},
   "outputs": [
    {
     "name": "stdout",
     "output_type": "stream",
     "text": [
      "[[19 22]\n",
      " [43 50]]\n"
     ]
    }
   ],
   "source": [
    "#Bài tập 4 Nhân hai ma trận 2D\n",
    "import numpy as np\n",
    "\n",
    "A = np.array([[1,2],[3,4]])\n",
    "B = np.array([[5,6],[7,8]])\n",
    "C = np.einsum('ij,jk->ik',A,B)\n",
    "print(C)"
   ]
  },
  {
   "cell_type": "code",
   "execution_count": 11,
   "metadata": {},
   "outputs": [
    {
     "name": "stdout",
     "output_type": "stream",
     "text": [
      "[[ 4  5  6]\n",
      " [ 8 10 12]\n",
      " [12 15 18]]\n"
     ]
    }
   ],
   "source": [
    "#Bài 5 Tính tích ngoài của 2 vector\n",
    "import numpy as np\n",
    "\n",
    "a = np.array([1,2,3])\n",
    "b = np.array([4,5,6])\n",
    "outer_product = np.einsum('i,j->ij',a,b)\n",
    "print(outer_product)"
   ]
  },
  {
   "cell_type": "code",
   "execution_count": 13,
   "metadata": {},
   "outputs": [
    {
     "name": "stdout",
     "output_type": "stream",
     "text": [
      "[[5.82508009 3.67115016 4.24728743]\n",
      " [3.67115016 4.73641367 3.23752909]\n",
      " [4.24728743 3.23752909 4.25813012]]\n"
     ]
    }
   ],
   "source": [
    "#Bài tập 6 Tính ma trận Gram của một tensor 3D\n",
    "import numpy as np\n",
    "\n",
    "def gram_matrix(tensor):\n",
    "    channels, height, width = tensor.shape\n",
    "    features = tensor.reshape(channels, height * width)\n",
    "    gram = np.einsum('ik,jk->ij',features,features)\n",
    "    return gram\n",
    "\n",
    "tensor = np.random.rand(3,4,4)\n",
    "gram = gram_matrix(tensor)\n",
    "print(gram)"
   ]
  }
 ],
 "metadata": {
  "kernelspec": {
   "display_name": "word-correction-env",
   "language": "python",
   "name": "python3"
  },
  "language_info": {
   "codemirror_mode": {
    "name": "ipython",
    "version": 3
   },
   "file_extension": ".py",
   "mimetype": "text/x-python",
   "name": "python",
   "nbconvert_exporter": "python",
   "pygments_lexer": "ipython3",
   "version": "3.12.4"
  }
 },
 "nbformat": 4,
 "nbformat_minor": 2
}
