{
 "cells": [
  {
   "cell_type": "code",
   "execution_count": 3,
   "metadata": {},
   "outputs": [
    {
     "name": "stdout",
     "output_type": "stream",
     "text": [
      "Ma trận 3x3 với các phần tử ngẫu nhiên:\n",
      " [[0.51525189 0.98287176 0.06279705]\n",
      " [0.01459517 0.29180225 0.75571567]\n",
      " [0.99881158 0.60519654 0.95490401]]\n"
     ]
    }
   ],
   "source": [
    "# Bài tập 1\n",
    "import numpy as np\n",
    "matrix = np.random.rand(3, 3)\n",
    "print(\"Ma trận 3x3 với các phần tử ngẫu nhiên:\\n\", matrix )"
   ]
  },
  {
   "cell_type": "code",
   "execution_count": 4,
   "metadata": {},
   "outputs": [
    {
     "name": "stdout",
     "output_type": "stream",
     "text": [
      "Tổng của hai ma trận:\n",
      " [[0.97712258 1.77267332 0.387807  ]\n",
      " [1.04612023 1.27071386 0.92225719]\n",
      " [0.52275849 1.17828655 1.44329986]]\n"
     ]
    }
   ],
   "source": [
    "# bài tập 2 phép cộng ma trận\n",
    "matrix1 = np.random.rand(3,3)\n",
    "matrix2 = np.random.rand(3,3)\n",
    "\n",
    "matrix_sum = matrix1 + matrix2\n",
    "print('Tổng của hai ma trận:\\n', matrix_sum)"
   ]
  },
  {
   "cell_type": "code",
   "execution_count": 5,
   "metadata": {},
   "outputs": [
    {
     "name": "stdout",
     "output_type": "stream",
     "text": [
      "Tích của hai ma trận:\n",
      " [[0.89196382 0.59444769 0.36000581]\n",
      " [1.33293485 0.93717603 0.43758729]\n",
      " [0.67229848 0.47455623 0.35046125]]\n"
     ]
    }
   ],
   "source": [
    "#Bài tập 3 Phép nhân ma trận\n",
    "matrix1 = np.random.rand(3,3)\n",
    "matrix2 = np.random.rand(3,3)\n",
    "\n",
    "matrix_product = np.dot(matrix1,matrix2)\n",
    "print(\"Tích của hai ma trận:\\n\", matrix_product)"
   ]
  },
  {
   "cell_type": "code",
   "execution_count": 6,
   "metadata": {},
   "outputs": [
    {
     "name": "stdout",
     "output_type": "stream",
     "text": [
      "Ma trận chuyển vị: \n",
      " [[0.66098697 0.54141132 0.30663874]\n",
      " [0.79508978 0.36914628 0.50238306]\n",
      " [0.2650635  0.31311362 0.9239455 ]]\n"
     ]
    }
   ],
   "source": [
    "#Bài tập 4: Ma trận chuyển vị\n",
    "matrix = np.random.rand(3,3)\n",
    "\n",
    "maxtrix_transpose = np.transpose(matrix)\n",
    "print('Ma trận chuyển vị: \\n', maxtrix_transpose)"
   ]
  },
  {
   "cell_type": "code",
   "execution_count": 7,
   "metadata": {},
   "outputs": [
    {
     "name": "stdout",
     "output_type": "stream",
     "text": [
      "Ma trận nghịch đảo: \n",
      " [[ -0.9768143  -11.25392225   9.15249442]\n",
      " [ -0.48801219   1.45141143   0.05828281]\n",
      " [  2.24266425   7.14671629  -6.37489234]]\n"
     ]
    }
   ],
   "source": [
    "#Bài tập 5: Ma trận nghịch đảo\n",
    "matrix = np.random.rand(3,3)\n",
    "\n",
    "try:\n",
    "    matrix_inverse = np.linalg.inv(matrix)\n",
    "    print(\"Ma trận nghịch đảo: \\n\", matrix_inverse)\n",
    "except np.linalg.LinAlgError:\n",
    "    print(\"Ma trận không có nghịch đảo\")"
   ]
  },
  {
   "cell_type": "code",
   "execution_count": 8,
   "metadata": {},
   "outputs": [
    {
     "name": "stdout",
     "output_type": "stream",
     "text": [
      "Định thức của ma trận: \n",
      " -0.19267039321105275\n"
     ]
    }
   ],
   "source": [
    "#Bài tập 6 Tính định thức ma trận\n",
    "matrix = np.random.rand(3,3)\n",
    "\n",
    "det = np.linalg.det(matrix)\n",
    "print('Định thức của ma trận: \\n', det)"
   ]
  }
 ],
 "metadata": {
  "kernelspec": {
   "display_name": "word-correction-env",
   "language": "python",
   "name": "python3"
  },
  "language_info": {
   "codemirror_mode": {
    "name": "ipython",
    "version": 3
   },
   "file_extension": ".py",
   "mimetype": "text/x-python",
   "name": "python",
   "nbconvert_exporter": "python",
   "pygments_lexer": "ipython3",
   "version": "3.12.4"
  }
 },
 "nbformat": 4,
 "nbformat_minor": 2
}
